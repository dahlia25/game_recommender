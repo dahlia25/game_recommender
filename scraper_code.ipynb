{
 "cells": [
  {
   "cell_type": "code",
   "execution_count": 1,
   "metadata": {
    "ExecuteTime": {
     "end_time": "2018-09-18T23:31:24.245573Z",
     "start_time": "2018-09-18T23:31:21.031817Z"
    }
   },
   "outputs": [],
   "source": [
    "import numpy as np\n",
    "import pandas as pd\n",
    "import pickle as pkl\n",
    "\n",
    "import random\n",
    "import requests\n",
    "import re\n",
    "import os\n",
    "import time\n",
    "from bs4 import BeautifulSoup\n",
    "from selenium import webdriver\n",
    "from selenium.webdriver.common.keys import Keys\n",
    "from selenium.common.exceptions import NoSuchElementException, TimeoutException, WebDriverException"
   ]
  },
  {
   "cell_type": "markdown",
   "metadata": {},
   "source": [
    "## Set up ChromeDriver for Selenium"
   ]
  },
  {
   "cell_type": "code",
   "execution_count": 2,
   "metadata": {
    "ExecuteTime": {
     "end_time": "2018-09-18T23:31:31.611467Z",
     "start_time": "2018-09-18T23:31:31.605305Z"
    }
   },
   "outputs": [],
   "source": [
    "chromedriver = \"/Applications/chromedriver\"\n",
    "os.environ[\"webdriver.chrome.driver\"] = chromedriver"
   ]
  },
  {
   "cell_type": "markdown",
   "metadata": {},
   "source": [
    "We want to get the links for games directly to save the trouble of having Selenium click on links later on."
   ]
  },
  {
   "cell_type": "code",
   "execution_count": 3,
   "metadata": {
    "ExecuteTime": {
     "end_time": "2018-09-18T23:33:22.930614Z",
     "start_time": "2018-09-18T23:33:22.926004Z"
    }
   },
   "outputs": [],
   "source": [
    "# Create an empty list to collect game links.\n",
    "game_links = []"
   ]
  },
  {
   "cell_type": "code",
   "execution_count": null,
   "metadata": {},
   "outputs": [],
   "source": [
    "# The range is just the number of pages showed on Metacritic.\n",
    "\n",
    "for i in range(157):\n",
    "    url = f'http://www.metacritic.com/browse/games/score/metascore/all/all/filtered?sort=desc&page={i}'\n",
    "    \n",
    "    driver = webdriver.Chrome(chromedriver)\n",
    "    driver.get(url)\n",
    "    \n",
    "    soup = BeautifulSoup(driver.page_source, 'html.parser')\n",
    "    \n",
    "    tags = soup.find_all('div', attrs={'class':'product_item product_title'})\n",
    "    \n",
    "    for tag in tags:\n",
    "        link = tag.find('a')['href']\n",
    "        game_links.append(link)\n",
    "    \n",
    "    print(f'Finished retrieving links on page number {i}')"
   ]
  },
  {
   "cell_type": "markdown",
   "metadata": {},
   "source": [
    "## For each game (using the game links we gathered), gather the following information:\n",
    "\n",
    "* Game Title\n",
    "* Release Year\n",
    "* Publisher\n",
    "* Genre\n",
    "* Platform\n",
    "* Metascore (aka. Review score for game)\n",
    "* Average User Score\n",
    "* Number of Players (that can play the game)"
   ]
  },
  {
   "cell_type": "code",
   "execution_count": 5,
   "metadata": {
    "ExecuteTime": {
     "end_time": "2018-09-18T23:39:06.813101Z",
     "start_time": "2018-09-18T23:39:06.807476Z"
    }
   },
   "outputs": [],
   "source": [
    "# First, since all the links obtained are part of an URL. Need to fix that.\n",
    "\n",
    "full_game_links = ['https://www.metacritic.com' + x for x in game_links]"
   ]
  },
  {
   "cell_type": "code",
   "execution_count": 6,
   "metadata": {
    "ExecuteTime": {
     "end_time": "2018-09-18T23:39:25.424024Z",
     "start_time": "2018-09-18T23:39:25.417153Z"
    }
   },
   "outputs": [],
   "source": [
    "title = []\n",
    "release_year = []\n",
    "publisher = []\n",
    "genre = []\n",
    "platform = []\n",
    "metascore = []\n",
    "avg_userscore = []\n",
    "no_players = []"
   ]
  },
  {
   "cell_type": "code",
   "execution_count": null,
   "metadata": {},
   "outputs": [],
   "source": [
    "# Set up scraper\n",
    "\n",
    "link_count = 0 #to keep track of how many links the scraper has gone through\n",
    "\n",
    "for link in full_game_links:\n",
    "    driver = webdriver.Chrome(chromedriver)\n",
    "    driver.implicitly_wait(3) #add this so we don't need to wait for all webpage elements to load.\n",
    "    driver.get(link)\n",
    "\n",
    "    link_count += 1\n",
    "    \n",
    "    soup = BeautifulSoup(driver.page_source, 'html.parser')\n",
    "\n",
    "    # get game title\n",
    "    if soup.find('h1') == None:\n",
    "        title.append('page not found')\n",
    "    else:\n",
    "        title.append(soup.find('h1').text)\n",
    "\n",
    "    # get release year of game\n",
    "    if soup.find('span', attrs={'class':'data', 'itemprop':'datePublished'}) == None:\n",
    "        release_year.append('not specified')\n",
    "    else:\n",
    "        release_year.append(int(soup.find('span', attrs={'class':'data', 'itemprop':'datePublished'}).text[-4:]))\n",
    "\n",
    "    # get publisher/developer of game\n",
    "    if soup.find('li', attrs={'class':'summary_detail developer'}) == None:\n",
    "        publisher.append('not specified')\n",
    "    else:\n",
    "        publisher.append(soup.find('li', attrs={'class':'summary_detail developer'}).text.replace('Developer:','').replace('\\n','').replace(' ',''))\n",
    "\n",
    "    # get genre(s) of game\n",
    "    if len(soup.find_all('span', attrs={'class':'data', 'itemprop':'genre'})) == 1:\n",
    "        genre.append(soup.find_all('span', attrs={'class':'data', 'itemprop':'genre'}).text)\n",
    "    elif len(soup.find_all('span', attrs={'class':'data', 'itemprop':'genre'})) == 0:\n",
    "        genre.append('no genre')\n",
    "    else:    \n",
    "        multi_genres = ';'.join([genre.text for genre in soup.find_all('span', attrs={'class':'data', 'itemprop':'genre'})])\n",
    "        genre.append(multi_genres)\n",
    "\n",
    "    # get platform of game\n",
    "    if soup.find('span', attrs={'itemprop':'device'}) == None:\n",
    "        platform.append('not specified')\n",
    "    else:\n",
    "        platform.append(soup.find('span', attrs={'itemprop':'device'}).text.replace('\\n','').replace(' ',''))\n",
    "\n",
    "    # get metascore of game\n",
    "    if soup.find('span', attrs={'itemprop':'ratingValue'}) == None:\n",
    "        metascore.append('not specified')\n",
    "    else:\n",
    "        metascore.append(soup.find('span', attrs={'itemprop':'ratingValue'}).text)\n",
    "\n",
    "    # get average userscore of game\n",
    "    if soup.find('div', attrs={'class':'userscore_wrap feature_userscore'}) == None:\n",
    "        avg_userscore.append('not specified')\n",
    "    else:\n",
    "        avg_userscore.append(soup.find('div', attrs={'class':'userscore_wrap feature_userscore'}).text.replace('\\nUser Score\\n\\n','')[0:3])\n",
    "\n",
    "    # get the number of players that can play the game\n",
    "    if soup.find('li', attrs={'class':'summary_detail product_players'}) == None:\n",
    "        no_players.append('not specified')\n",
    "    else:\n",
    "        no_players.append(soup.find('li', attrs={'class':'summary_detail product_players'}).text.replace('\\n# of players:\\n','').replace('\\n',''))\n",
    "\n",
    "    print(f'Finished gathering Link # {link_count}, title: {len(title)}, year: {len(release_year)}, publisher: {len(publisher)}')\n",
    "    print(f'genre: {len(genre)}, platform: {len(platform)}, metascore: {len(metascore)}, userscore: {len(avg_userscore)}, no_players: {len(no_players)}')\n",
    "    \n",
    "    driver.quit()"
   ]
  },
  {
   "cell_type": "code",
   "execution_count": 8,
   "metadata": {
    "ExecuteTime": {
     "end_time": "2018-09-18T23:49:46.654138Z",
     "start_time": "2018-09-18T23:49:46.556407Z"
    }
   },
   "outputs": [],
   "source": [
    "# Put all information collected in lists into a DataFrame.\n",
    "\n",
    "df = pd.DataFrame(columns=['Title','Year','Publisher','Genre','Platform','Metascore','Avg_Userscore','No_Players'])\n",
    "df['Title'] = title\n",
    "df['Year'] = release_year\n",
    "df['Publisher'] = publisher\n",
    "df['Genre'] = genre\n",
    "df['Platform'] = platform\n",
    "df['Metascore'] = metascore\n",
    "df['Avg_Userscore'] = avg_userscore\n",
    "df['No_Players'] = no_players"
   ]
  },
  {
   "cell_type": "code",
   "execution_count": 38,
   "metadata": {
    "ExecuteTime": {
     "end_time": "2018-09-07T06:03:45.737588Z",
     "start_time": "2018-09-07T06:03:45.708960Z"
    },
    "scrolled": true
   },
   "outputs": [
    {
     "data": {
      "text/html": [
       "<div>\n",
       "<style scoped>\n",
       "    .dataframe tbody tr th:only-of-type {\n",
       "        vertical-align: middle;\n",
       "    }\n",
       "\n",
       "    .dataframe tbody tr th {\n",
       "        vertical-align: top;\n",
       "    }\n",
       "\n",
       "    .dataframe thead th {\n",
       "        text-align: right;\n",
       "    }\n",
       "</style>\n",
       "<table border=\"1\" class=\"dataframe\">\n",
       "  <thead>\n",
       "    <tr style=\"text-align: right;\">\n",
       "      <th></th>\n",
       "      <th>Title</th>\n",
       "      <th>Year</th>\n",
       "      <th>Publisher</th>\n",
       "      <th>Genre</th>\n",
       "      <th>Platform</th>\n",
       "      <th>Metascore</th>\n",
       "      <th>Avg_Userscore</th>\n",
       "      <th>No_Players</th>\n",
       "    </tr>\n",
       "  </thead>\n",
       "  <tbody>\n",
       "    <tr>\n",
       "      <th>0</th>\n",
       "      <td>The Legend of Zelda: Ocarina of Time</td>\n",
       "      <td>1998</td>\n",
       "      <td>Nintendo</td>\n",
       "      <td>Action Adventure;Fantasy</td>\n",
       "      <td>Nintendo64</td>\n",
       "      <td>99</td>\n",
       "      <td>9.1</td>\n",
       "      <td>1 Player</td>\n",
       "    </tr>\n",
       "    <tr>\n",
       "      <th>1</th>\n",
       "      <td>Tony Hawk's Pro Skater 2</td>\n",
       "      <td>2000</td>\n",
       "      <td>NeversoftEntertainment</td>\n",
       "      <td>Sports;Alternative;Skateboarding</td>\n",
       "      <td>PlayStation</td>\n",
       "      <td>98</td>\n",
       "      <td>7.4</td>\n",
       "      <td>1-2</td>\n",
       "    </tr>\n",
       "    <tr>\n",
       "      <th>2</th>\n",
       "      <td>Grand Theft Auto IV</td>\n",
       "      <td>2008</td>\n",
       "      <td>RockstarNorth</td>\n",
       "      <td>Action Adventure;Modern;Modern;Open-World</td>\n",
       "      <td>PlayStation3</td>\n",
       "      <td>98</td>\n",
       "      <td>7.5</td>\n",
       "      <td>1 Player</td>\n",
       "    </tr>\n",
       "    <tr>\n",
       "      <th>3</th>\n",
       "      <td>SoulCalibur</td>\n",
       "      <td>1999</td>\n",
       "      <td>Namco</td>\n",
       "      <td>Action;Fighting;3D</td>\n",
       "      <td>Dreamcast</td>\n",
       "      <td>98</td>\n",
       "      <td>8.6</td>\n",
       "      <td>1-2</td>\n",
       "    </tr>\n",
       "    <tr>\n",
       "      <th>4</th>\n",
       "      <td>Grand Theft Auto IV</td>\n",
       "      <td>2008</td>\n",
       "      <td>RockstarNorth</td>\n",
       "      <td>Action Adventure;Modern;Modern;Open-World</td>\n",
       "      <td>Xbox360</td>\n",
       "      <td>98</td>\n",
       "      <td>7.9</td>\n",
       "      <td>1 Player</td>\n",
       "    </tr>\n",
       "  </tbody>\n",
       "</table>\n",
       "</div>"
      ],
      "text/plain": [
       "                                  Title  Year               Publisher  \\\n",
       "0  The Legend of Zelda: Ocarina of Time  1998                Nintendo   \n",
       "1              Tony Hawk's Pro Skater 2  2000  NeversoftEntertainment   \n",
       "2                   Grand Theft Auto IV  2008           RockstarNorth   \n",
       "3                           SoulCalibur  1999                   Namco   \n",
       "4                   Grand Theft Auto IV  2008           RockstarNorth   \n",
       "\n",
       "                                       Genre      Platform Metascore  \\\n",
       "0                   Action Adventure;Fantasy    Nintendo64        99   \n",
       "1           Sports;Alternative;Skateboarding   PlayStation        98   \n",
       "2  Action Adventure;Modern;Modern;Open-World  PlayStation3        98   \n",
       "3                         Action;Fighting;3D     Dreamcast        98   \n",
       "4  Action Adventure;Modern;Modern;Open-World       Xbox360        98   \n",
       "\n",
       "  Avg_Userscore No_Players  \n",
       "0           9.1   1 Player  \n",
       "1           7.4       1-2   \n",
       "2           7.5   1 Player  \n",
       "3           8.6       1-2   \n",
       "4           7.9   1 Player  "
      ]
     },
     "execution_count": 38,
     "metadata": {},
     "output_type": "execute_result"
    }
   ],
   "source": [
    "# An quick shot of what the DataFrame should look like\n",
    "df.head()"
   ]
  },
  {
   "cell_type": "code",
   "execution_count": null,
   "metadata": {},
   "outputs": [],
   "source": [
    "# Save all data with Pickle.\n",
    "\n",
    "with open('final_game_general_data.pkl', 'wb') as picklefile:\n",
    "    pkl.dump(df, picklefile)"
   ]
  },
  {
   "cell_type": "markdown",
   "metadata": {},
   "source": [
    "# The code below is another scraper for gathering user comments for each game scraped."
   ]
  },
  {
   "cell_type": "code",
   "execution_count": 11,
   "metadata": {
    "ExecuteTime": {
     "end_time": "2018-09-07T05:53:12.363534Z",
     "start_time": "2018-09-07T05:53:12.334950Z"
    },
    "scrolled": true
   },
   "outputs": [
    {
     "data": {
      "text/html": [
       "<div>\n",
       "<style scoped>\n",
       "    .dataframe tbody tr th:only-of-type {\n",
       "        vertical-align: middle;\n",
       "    }\n",
       "\n",
       "    .dataframe tbody tr th {\n",
       "        vertical-align: top;\n",
       "    }\n",
       "\n",
       "    .dataframe thead th {\n",
       "        text-align: right;\n",
       "    }\n",
       "</style>\n",
       "<table border=\"1\" class=\"dataframe\">\n",
       "  <thead>\n",
       "    <tr style=\"text-align: right;\">\n",
       "      <th></th>\n",
       "      <th>Title</th>\n",
       "      <th>Year</th>\n",
       "      <th>Publisher</th>\n",
       "      <th>Genre</th>\n",
       "      <th>Platform</th>\n",
       "      <th>Metascore</th>\n",
       "      <th>Avg_Userscore</th>\n",
       "      <th>No_Players</th>\n",
       "    </tr>\n",
       "  </thead>\n",
       "  <tbody>\n",
       "    <tr>\n",
       "      <th>808</th>\n",
       "      <td>Error 503 Service Unavailable</td>\n",
       "      <td>not specified</td>\n",
       "      <td>not specified</td>\n",
       "      <td>no genre</td>\n",
       "      <td>not specified</td>\n",
       "      <td>not specified</td>\n",
       "      <td>not specified</td>\n",
       "      <td>not specified</td>\n",
       "    </tr>\n",
       "    <tr>\n",
       "      <th>1360</th>\n",
       "      <td>Bad Request</td>\n",
       "      <td>not specified</td>\n",
       "      <td>not specified</td>\n",
       "      <td>no genre</td>\n",
       "      <td>not specified</td>\n",
       "      <td>not specified</td>\n",
       "      <td>not specified</td>\n",
       "      <td>not specified</td>\n",
       "    </tr>\n",
       "    <tr>\n",
       "      <th>2122</th>\n",
       "      <td>This page isn’t working</td>\n",
       "      <td>not specified</td>\n",
       "      <td>not specified</td>\n",
       "      <td>no genre</td>\n",
       "      <td>not specified</td>\n",
       "      <td>not specified</td>\n",
       "      <td>not specified</td>\n",
       "      <td>not specified</td>\n",
       "    </tr>\n",
       "    <tr>\n",
       "      <th>2123</th>\n",
       "      <td>This page isn’t working</td>\n",
       "      <td>not specified</td>\n",
       "      <td>not specified</td>\n",
       "      <td>no genre</td>\n",
       "      <td>not specified</td>\n",
       "      <td>not specified</td>\n",
       "      <td>not specified</td>\n",
       "      <td>not specified</td>\n",
       "    </tr>\n",
       "    <tr>\n",
       "      <th>2124</th>\n",
       "      <td>This page isn’t working</td>\n",
       "      <td>not specified</td>\n",
       "      <td>not specified</td>\n",
       "      <td>no genre</td>\n",
       "      <td>not specified</td>\n",
       "      <td>not specified</td>\n",
       "      <td>not specified</td>\n",
       "      <td>not specified</td>\n",
       "    </tr>\n",
       "    <tr>\n",
       "      <th>2125</th>\n",
       "      <td>This page isn’t working</td>\n",
       "      <td>not specified</td>\n",
       "      <td>not specified</td>\n",
       "      <td>no genre</td>\n",
       "      <td>not specified</td>\n",
       "      <td>not specified</td>\n",
       "      <td>not specified</td>\n",
       "      <td>not specified</td>\n",
       "    </tr>\n",
       "    <tr>\n",
       "      <th>2126</th>\n",
       "      <td>This page isn’t working</td>\n",
       "      <td>not specified</td>\n",
       "      <td>not specified</td>\n",
       "      <td>no genre</td>\n",
       "      <td>not specified</td>\n",
       "      <td>not specified</td>\n",
       "      <td>not specified</td>\n",
       "      <td>not specified</td>\n",
       "    </tr>\n",
       "    <tr>\n",
       "      <th>2127</th>\n",
       "      <td>This page isn’t working</td>\n",
       "      <td>not specified</td>\n",
       "      <td>not specified</td>\n",
       "      <td>no genre</td>\n",
       "      <td>not specified</td>\n",
       "      <td>not specified</td>\n",
       "      <td>not specified</td>\n",
       "      <td>not specified</td>\n",
       "    </tr>\n",
       "    <tr>\n",
       "      <th>2977</th>\n",
       "      <td>page not found</td>\n",
       "      <td>not specified</td>\n",
       "      <td>not specified</td>\n",
       "      <td>no genre</td>\n",
       "      <td>not specified</td>\n",
       "      <td>not specified</td>\n",
       "      <td>not specified</td>\n",
       "      <td>not specified</td>\n",
       "    </tr>\n",
       "    <tr>\n",
       "      <th>4408</th>\n",
       "      <td>Bad Request</td>\n",
       "      <td>not specified</td>\n",
       "      <td>not specified</td>\n",
       "      <td>no genre</td>\n",
       "      <td>not specified</td>\n",
       "      <td>not specified</td>\n",
       "      <td>not specified</td>\n",
       "      <td>not specified</td>\n",
       "    </tr>\n",
       "    <tr>\n",
       "      <th>4434</th>\n",
       "      <td>Bad Request</td>\n",
       "      <td>not specified</td>\n",
       "      <td>not specified</td>\n",
       "      <td>no genre</td>\n",
       "      <td>not specified</td>\n",
       "      <td>not specified</td>\n",
       "      <td>not specified</td>\n",
       "      <td>not specified</td>\n",
       "    </tr>\n",
       "  </tbody>\n",
       "</table>\n",
       "</div>"
      ],
      "text/plain": [
       "                              Title           Year      Publisher     Genre  \\\n",
       "808   Error 503 Service Unavailable  not specified  not specified  no genre   \n",
       "1360                    Bad Request  not specified  not specified  no genre   \n",
       "2122        This page isn’t working  not specified  not specified  no genre   \n",
       "2123        This page isn’t working  not specified  not specified  no genre   \n",
       "2124        This page isn’t working  not specified  not specified  no genre   \n",
       "2125        This page isn’t working  not specified  not specified  no genre   \n",
       "2126        This page isn’t working  not specified  not specified  no genre   \n",
       "2127        This page isn’t working  not specified  not specified  no genre   \n",
       "2977                 page not found  not specified  not specified  no genre   \n",
       "4408                    Bad Request  not specified  not specified  no genre   \n",
       "4434                    Bad Request  not specified  not specified  no genre   \n",
       "\n",
       "           Platform      Metascore  Avg_Userscore     No_Players  \n",
       "808   not specified  not specified  not specified  not specified  \n",
       "1360  not specified  not specified  not specified  not specified  \n",
       "2122  not specified  not specified  not specified  not specified  \n",
       "2123  not specified  not specified  not specified  not specified  \n",
       "2124  not specified  not specified  not specified  not specified  \n",
       "2125  not specified  not specified  not specified  not specified  \n",
       "2126  not specified  not specified  not specified  not specified  \n",
       "2127  not specified  not specified  not specified  not specified  \n",
       "2977  not specified  not specified  not specified  not specified  \n",
       "4408  not specified  not specified  not specified  not specified  \n",
       "4434  not specified  not specified  not specified  not specified  "
      ]
     },
     "execution_count": 11,
     "metadata": {},
     "output_type": "execute_result"
    }
   ],
   "source": [
    "# All the game links that could not be accessed or found; do not need these.\n",
    "\n",
    "df[df.Year == 'not specified']"
   ]
  },
  {
   "cell_type": "markdown",
   "metadata": {},
   "source": [
    "Set up scraper to collect user comments"
   ]
  },
  {
   "cell_type": "code",
   "execution_count": 12,
   "metadata": {
    "ExecuteTime": {
     "end_time": "2018-09-18T23:52:28.759644Z",
     "start_time": "2018-09-18T23:52:28.755626Z"
    }
   },
   "outputs": [],
   "source": [
    "'''\n",
    "Metacritic is a well-structured website, so we can modify all game links to guide the scraper directly to the\n",
    "user reviews page, without having the scraper to click through links.\n",
    "'''\n",
    "\n",
    "full_game_user_links = [x + '/user-reviews' for x in full_game_links]"
   ]
  },
  {
   "cell_type": "code",
   "execution_count": 13,
   "metadata": {
    "ExecuteTime": {
     "end_time": "2018-09-18T23:54:23.875476Z",
     "start_time": "2018-09-18T23:54:23.870865Z"
    }
   },
   "outputs": [],
   "source": [
    "game_title = []\n",
    "game_platform = []\n",
    "usernames = []\n",
    "userscores = []\n",
    "comments = []\n",
    "no_helpfulness = []"
   ]
  },
  {
   "cell_type": "code",
   "execution_count": null,
   "metadata": {},
   "outputs": [],
   "source": [
    "game_count = 0\n",
    "\n",
    "for index in range(0,4000): # set the number of games you would like the scraper to scrape\n",
    "    \n",
    "    game_count += 1\n",
    "    page_number = 1\n",
    "    \n",
    "    driver = webdriver.Chrome(chromedriver)\n",
    "    driver.implicitly_wait(3)\n",
    "    driver.get(df['user_reviews_link'][index])\n",
    "\n",
    "    print(f\"Starting to gather comments for {df['Title'][index]}... page {page_number}\")\n",
    "    \n",
    "    for _ in range(100): #each review page shows a maximum of 100 user reviews; do this to expand longer reviews\n",
    "        try:\n",
    "            expand = driver.find_element_by_link_text('Expand')\n",
    "            expand.click()\n",
    "        except WebDriverException or NoSuchElementException:\n",
    "            break\n",
    "    \n",
    "    soup = BeautifulSoup(driver.page_source, 'html.parser')\n",
    "    \n",
    "    # get username\n",
    "    for user in soup.find_all('div', attrs={'class':'name'}):\n",
    "        usernames.append(user.text)\n",
    "        \n",
    "    # get user scores\n",
    "    for grade in soup.find_all('div', attrs={'class':'review_grade'}):\n",
    "        userscores.append(int(grade.text))\n",
    "        \n",
    "    # get comments (need to expand comments)\n",
    "    for review in soup.find_all('div', attrs={'class':'review_body'}):\n",
    "        comments.append(review.text.replace('… Collapse', ''))\n",
    "        game_title.append(df['Title'][index])\n",
    "        game_platform.append(df['Platform'][index])\n",
    "    \n",
    "    # get how helpful a review is\n",
    "    for vote in soup.find_all('span', attrs={'class':'total_ups'}):\n",
    "        no_helpfulness.append(vote.text)\n",
    "   \n",
    "    for _ in range(100):\n",
    "        try:\n",
    "            page_number += 1\n",
    "            print(f'starting page {page_number}...')\n",
    "            next_page = driver.find_element_by_link_text('next')\n",
    "            next_page.click()\n",
    "\n",
    "            for _ in range(100):\n",
    "                try:\n",
    "                    expand = driver.find_element_by_link_text('Expand')\n",
    "                    expand.click()\n",
    "                except WebDriverException or NoSuchElementException:\n",
    "                    break\n",
    "            \n",
    "            soup = BeautifulSoup(driver.page_source, 'html.parser')\n",
    "\n",
    "            # get usernames\n",
    "            for user in soup.find_all('div', attrs={'class':'name'}):\n",
    "                usernames.append(user.text)\n",
    "\n",
    "            # get user scores\n",
    "            for grade in soup.find_all('div', attrs={'class':'review_grade'}):\n",
    "                userscores.append(int(grade.text))\n",
    "\n",
    "            # get comments (need to expand comments)\n",
    "            for review in soup.find_all('div', attrs={'class':'review_body'}):\n",
    "                comments.append(review.text.replace('… Collapse', ''))\n",
    "                game_title.append(df['Title'][index])\n",
    "                game_platform.append(df['Platform'][index])\n",
    "\n",
    "            # get how helpful a review is\n",
    "            for vote in soup.find_all('span', attrs={'class':'total_ups'}):\n",
    "                no_helpfulness.append(vote.text)\n",
    "                \n",
    "        except NoSuchElementException:\n",
    "            print(f\"Finished **{df['Title'][index]}** game # {game_count} - titles: {len(game_title)}; platforms: {len(game_platform)} users: {len(usernames)}; scores: {len(userscores)}\")\n",
    "            print(f\"comments: {len(comments)}; helpful rec'd: {len(no_helpfulness)}\")\n",
    "            break\n",
    "            \n",
    "    driver.quit()"
   ]
  },
  {
   "cell_type": "code",
   "execution_count": null,
   "metadata": {},
   "outputs": [],
   "source": [
    "# Save all lists as Pickled files.\n",
    "\n",
    "with open('actual_game_title_3420.pkl','wb') as titlefile:\n",
    "    pkl.dump(game_title, titlefile)\n",
    "    \n",
    "with open('actual_game_platform_3420.pkl','wb') as platformfile:\n",
    "    pkl.dump(game_platform, platformfile)\n",
    "    \n",
    "with open('actual_usernames_3420.pkl','wb') as userfile:\n",
    "    pkl.dump(usernames, userfile)\n",
    "    \n",
    "with open('actual_userscores_3420.pkl','wb') as scorefile:\n",
    "    pkl.dump(userscores, scorefile)\n",
    "    \n",
    "with open('actual_usercomments_3420.pkl','wb') as commentfile:\n",
    "    pkl.dump(comments, commentfile)\n",
    "    \n",
    "with open('actual_helpfulness_3420.pkl','wb') as helpfulfile:\n",
    "    pkl.dump(no_helpfulness, helpfulfile)\n",
    "\n"
   ]
  }
 ],
 "metadata": {
  "kernelspec": {
   "display_name": "Python 3",
   "language": "python",
   "name": "python3"
  },
  "language_info": {
   "codemirror_mode": {
    "name": "ipython",
    "version": 3
   },
   "file_extension": ".py",
   "mimetype": "text/x-python",
   "name": "python",
   "nbconvert_exporter": "python",
   "pygments_lexer": "ipython3",
   "version": "3.6.5"
  },
  "varInspector": {
   "cols": {
    "lenName": 16,
    "lenType": 16,
    "lenVar": 40
   },
   "kernels_config": {
    "python": {
     "delete_cmd_postfix": "",
     "delete_cmd_prefix": "del ",
     "library": "var_list.py",
     "varRefreshCmd": "print(var_dic_list())"
    },
    "r": {
     "delete_cmd_postfix": ") ",
     "delete_cmd_prefix": "rm(",
     "library": "var_list.r",
     "varRefreshCmd": "cat(var_dic_list()) "
    }
   },
   "types_to_exclude": [
    "module",
    "function",
    "builtin_function_or_method",
    "instance",
    "_Feature"
   ],
   "window_display": false
  }
 },
 "nbformat": 4,
 "nbformat_minor": 2
}
